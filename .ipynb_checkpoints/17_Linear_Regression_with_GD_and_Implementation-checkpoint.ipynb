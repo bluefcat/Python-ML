{
 "cells": [
  {
   "cell_type": "code",
   "execution_count": 2,
   "metadata": {},
   "outputs": [],
   "source": [
    "import numpy as np\n",
    "import pandas as pd\n",
    "import matplotlib.pyplot as plt"
   ]
  },
  {
   "cell_type": "code",
   "execution_count": 20,
   "metadata": {},
   "outputs": [
    {
     "data": {
      "image/png": "[encoded data removed]",
      "text/plain": [
       "<Figure size 432x288 with 1 Axes>"
      ]
     },
     "metadata": {
      "needs_background": "light"
     },
     "output_type": "display_data"
    }
   ],
   "source": [
    "def gen_data(num_points, bias, variance):\n",
    "    x = np.concatenate((np.ones((num_points, 1)), np.arange(num_points).reshape(-1, 1)), axis=1)\n",
    "    y = np.zeros(shape=num_points)\n",
    "    \n",
    "    for i in range(0, num_points):\n",
    "        y[i] = (i+bias) + np.random.uniform(0, 1) * variance\n",
    "        \n",
    "    return x, y\n",
    "\n",
    "#generat 100 points with a bias of 25 and 10 variance as a bit of noise\n",
    "x, y = gen_data(100, 25, 10)\n",
    "plt.plot(x[:,1]+1, y, \"ro\")\n",
    "plt.show()"
   ]
  },
  {
   "cell_type": "code",
   "execution_count": 17,
   "metadata": {},
   "outputs": [
    {
     "data": {
      "text/plain": [
       "array([0, 1, 2])"
      ]
     },
     "execution_count": 17,
     "metadata": {},
     "output_type": "execute_result"
    }
   ],
   "source": [
    "#m denotes the number of examples here not the number of features\n",
    "def gradient_descent(x, y, theta, alpha, m, num_iterations):\n",
    "    x_trans = x.T\n",
    "    theta_list = []\n",
    "    cost_list = []\n",
    "    \n",
    "    for i in range(0, num_iterations):\n",
    "        hypothesis = np.dot(x, theta)\n",
    "        loss = hypothesis - y\n",
    "        \n",
    "        cost = np.sum(loss ** 2) / (2 * m)\n",
    "        gradient = np.dot(x_trans, loss) / m\n",
    "        print(gradient.shape)\n",
    "        \n",
    "        #update\n",
    "        theta = theat - alpha * gradient\n",
    "        if % 250 == 0:\n",
    "            theta_list.append(theta)\n",
    "            cost_list.append(cost)\n",
    "            \n",
    "    return theta, np.array(theta_list), cost_list\n",
    "\n",
    "m, n = np.shape(x)\n",
    "num_iterations = 5000\n",
    "alpha = 0.0005\n",
    "theta = np.ones(n)"
   ]
  },
  {
   "cell_type": "code",
   "execution_count": null,
   "metadata": {},
   "outputs": [],
   "source": []
  }
 ],
 "metadata": {
  "kernelspec": {
   "display_name": "Python 3",
   "language": "python",
   "name": "python3"
  },
  "language_info": {
   "codemirror_mode": {
    "name": "ipython",
    "version": 3
   },
   "file_extension": ".py",
   "mimetype": "text/x-python",
   "name": "python",
   "nbconvert_exporter": "python",
   "pygments_lexer": "ipython3",
   "version": "3.7.4"
  }
 },
 "nbformat": 4,
 "nbformat_minor": 2
}

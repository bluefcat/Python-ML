{
 "cells": [
  {
   "cell_type": "code",
   "execution_count": 10,
   "metadata": {},
   "outputs": [],
   "source": [
    "from itertools import permutations\n",
    "from functools import reduce"
   ]
  },
  {
   "cell_type": "code",
   "execution_count": 40,
   "metadata": {},
   "outputs": [],
   "source": [
    "def insert_operation(r, input_num, input_oper):\n",
    "    ops = {\"0\" : (lambda x, y: x + y),\n",
    "           \"1\" : (lambda x, y: x - y),\n",
    "           \"2\" : (lambda x, y: x * y),\n",
    "           \"3\" : (lambda x, y: int(x / y))}\n",
    "    oper_permutation = []\n",
    "    result = []\n",
    "    \n",
    "    list(oper_permutation.extend(\n",
    "        [str(index)] * value) for index, value in enumerate(input_oper) if value > 0\n",
    "    )\n",
    "    \n",
    "    permutation = [list(x) for x in set(permutations(oper_permutation))]\n",
    "    for i in permutation:\n",
    "        result.append(reduce(lambda x, y : ops[i.pop()](x, y), input_num))\n",
    "    print(str(max(result)) + \"\\n\" + str(min(result)))"
   ]
  },
  {
   "cell_type": "code",
   "execution_count": 41,
   "metadata": {},
   "outputs": [
    {
     "name": "stdout",
     "output_type": "stream",
     "text": [
      "35\n",
      "17\n"
     ]
    }
   ],
   "source": [
    "insert_operation(2, [3, 4, 5], [1, 0, 1, 0])"
   ]
  },
  {
   "cell_type": "code",
   "execution_count": 42,
   "metadata": {},
   "outputs": [
    {
     "name": "stdout",
     "output_type": "stream",
     "text": [
      "6\n",
      "1 2 3 4 5 6\n",
      "2 1 1 1\n",
      "54\n",
      "-24\n"
     ]
    }
   ],
   "source": [
    "r = 0\n",
    "input_num = []\n",
    "input_oper = []\n",
    "\n",
    "r = int(input())\n",
    "input_num += list(map(int, input().split(' ')))\n",
    "input_oper += list(map(int, input().split(' ')))\n",
    "\n",
    "insert_operation(r, input_num, input_oper)"
   ]
  },
  {
   "cell_type": "code",
   "execution_count": 27,
   "metadata": {},
   "outputs": [
    {
     "data": {
      "text/plain": [
       "[[3, 4, 5]]"
      ]
     },
     "execution_count": 27,
     "metadata": {},
     "output_type": "execute_result"
    }
   ],
   "source": [
    "input_num"
   ]
  },
  {
   "cell_type": "code",
   "execution_count": null,
   "metadata": {},
   "outputs": [],
   "source": []
  }
 ],
 "metadata": {
  "kernelspec": {
   "display_name": "Python 3",
   "language": "python",
   "name": "python3"
  },
  "language_info": {
   "codemirror_mode": {
    "name": "ipython",
    "version": 3
   },
   "file_extension": ".py",
   "mimetype": "text/x-python",
   "name": "python",
   "nbconvert_exporter": "python",
   "pygments_lexer": "ipython3",
   "version": "3.7.4"
  }
 },
 "nbformat": 4,
 "nbformat_minor": 2
}
